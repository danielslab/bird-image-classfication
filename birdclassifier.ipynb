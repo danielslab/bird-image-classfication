{
 "cells": [
  {
   "cell_type": "markdown",
   "metadata": {},
   "source": [
    "## 1. Download Data:\n",
    "\n",
    "BIRDS 525 SPECIES- IMAGE CLASSIFICATION  \n",
    "525 species, 84635 train, 2625 test, 2625 validation images 224X224X3 jpg  \n",
    "\n",
    "https://www.kaggle.com/datasets/gpiosenka/100-bird-species?resource=download  \n",
    "\n",
    "Save archive.zip file into data/ folder"
   ]
  },
  {
   "cell_type": "markdown",
   "metadata": {},
   "source": [
    "## 2. Unzip Data:  "
   ]
  },
  {
   "cell_type": "code",
   "execution_count": 2,
   "metadata": {},
   "outputs": [],
   "source": [
    "import zipfile\n",
    "\n",
    "zipfile.ZipFile('data/archive.zip', 'r').extractall('data/')"
   ]
  }
 ],
 "metadata": {
  "kernelspec": {
   "display_name": "Python 3",
   "language": "python",
   "name": "python3"
  },
  "language_info": {
   "codemirror_mode": {
    "name": "ipython",
    "version": 3
   },
   "file_extension": ".py",
   "mimetype": "text/x-python",
   "name": "python",
   "nbconvert_exporter": "python",
   "pygments_lexer": "ipython3",
   "version": "3.10.12"
  }
 },
 "nbformat": 4,
 "nbformat_minor": 2
}
